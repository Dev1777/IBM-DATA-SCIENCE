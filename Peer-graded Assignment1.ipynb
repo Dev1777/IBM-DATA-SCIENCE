{
 "cells": [
  {
   "cell_type": "markdown",
   "metadata": {},
   "source": [
    "<center>\n",
    "    <img src=\"https://cf-courses-data.s3.us.cloud-object-storage.appdomain.cloud/IBMDeveloperSkillsNetwork-DS0105EN-SkillsNetwork/labs/Module2/images/SN_web_lightmode.png\" width=\"300\" alt=\"cognitiveclass.ai logo\">\n",
    "</center>\n"
   ]
  },
  {
   "cell_type": "markdown",
   "metadata": {},
   "source": [
    "#### Add your code below following the instructions given in the course\n"
   ]
  },
  {
   "cell_type": "markdown",
   "metadata": {},
   "source": [
    "NOTEBOOK 1"
   ]
  },
  {
   "cell_type": "markdown",
   "metadata": {},
   "source": [
    "DATA SCIENCE LANGUAGES\n",
    "The following are common languages used in data science:\n",
    "Python \n",
    "R\n",
    "SQL\n",
    "Java"
   ]
  },
  {
   "cell_type": "markdown",
   "metadata": {},
   "source": [
    "DATA SCIENCE LIBRARIES\n",
    "Here are some popular libraries used in data science:\n",
    "Pandas (Python)\n",
    "NumPy (Python)\n",
    "ggplot2 (R)\n",
    "dplyr (R)\n",
    "Scikit-learn (Python)\n",
    "TensorFlow (Python)\n"
   ]
  },
  {
   "cell_type": "markdown",
   "metadata": {},
   "source": [
    "Data Science Tools\n",
    "\n",
    "1.Data Management Tools:\n",
    "\n",
    "Relational Databases: MySQL, PostgreSQL\n",
    "NoSQL Databases: MongoDB, Apache Cassandra\n",
    "Big Data: Apache Hadoop, Apache Spark\n",
    "\n",
    "2.Data Integration & Transformation Tools: Apache Airflow, Apache Kafka\n",
    "\n",
    "3.Data Visualization Tools: Tableau, PowerBI, Cognos Analytics\n",
    "\n",
    "4.Code Asset Management: Git, GitHub\n",
    "\n",
    "5.Development Environments: Jupyter Notebooks, RStudio\n"
   ]
  },
  {
   "cell_type": "markdown",
   "metadata": {},
   "source": [
    "Now we'll demonstrate basic arithmetic operations like addition, subtraction, multiplication, and division."
   ]
  },
  {
   "cell_type": "code",
   "execution_count": 1,
   "metadata": {},
   "outputs": [
    {
     "data": {
      "text/plain": [
       "(30, 11)"
      ]
     },
     "execution_count": 1,
     "metadata": {},
     "output_type": "execute_result"
    }
   ],
   "source": [
    "a = 5\n",
    "b = 6\n",
    "mul = a*b\n",
    "add = a+b\n",
    "mul, add"
   ]
  },
  {
   "cell_type": "code",
   "execution_count": 2,
   "metadata": {},
   "outputs": [
    {
     "data": {
      "text/plain": [
       "0.6666666666666666"
      ]
     },
     "execution_count": 2,
     "metadata": {},
     "output_type": "execute_result"
    }
   ],
   "source": [
    "minutes = 40\n",
    "hours = minutes/60\n",
    "hours"
   ]
  },
  {
   "cell_type": "markdown",
   "metadata": {},
   "source": [
    "OBJECTIVES\n",
    "Understand the basic data science languages and libraries\n",
    "Learn to work with arithmetic expressions and functions\n",
    "Explore data science tools and their uses\n",
    "Understand how to use GitHub for version control"
   ]
  },
  {
   "cell_type": "markdown",
   "metadata": {},
   "source": [
    "Author- Dev"
   ]
  }
 ],
 "metadata": {
  "kernelspec": {
   "display_name": "Python 3 (ipykernel)",
   "language": "python",
   "name": "python3"
  },
  "language_info": {
   "codemirror_mode": {
    "name": "ipython",
    "version": 3
   },
   "file_extension": ".py",
   "mimetype": "text/x-python",
   "name": "python",
   "nbconvert_exporter": "python",
   "pygments_lexer": "ipython3",
   "version": "3.12.8"
  }
 },
 "nbformat": 4,
 "nbformat_minor": 4
}
